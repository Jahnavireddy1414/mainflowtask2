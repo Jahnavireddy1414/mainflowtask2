{
 "cells": [
  {
   "cell_type": "code",
   "execution_count": 3,
   "id": "8514f266",
   "metadata": {},
   "outputs": [],
   "source": [
    "import pandas as pd\n",
    "import numpy as np\n",
    "import matplotlib.pyplot as plt\n",
    "import seaborn as sns\n",
    "from sklearn.model_selection import train_test_split\n",
    "from sklearn.linear_model import LinearRegression\n",
    "from sklearn.metrics import mean_squared_error, r2_score"
   ]
  },
  {
   "cell_type": "code",
   "execution_count": 5,
   "id": "6daa80b1",
   "metadata": {},
   "outputs": [
    {
     "name": "stdout",
     "output_type": "stream",
     "text": [
      "     Product Region  Sales  Profit  Discount     Category        Date\n",
      "0  Product A   East    200      50      0.10  Electronics  01-01-2023\n",
      "1  Product B   West    300      70      0.15    Furniture  02-01-2023\n",
      "2  Product C  North    250      60      0.05  Electronics  03-01-2023\n",
      "3  Product D  South    400      80      0.20    Furniture  04-01-2023\n",
      "4  Product E   East    100      20      0.10   Stationery  05-01-2023\n",
      "5  Product F   West    150      30      0.05   Stationery  06-01-2023\n",
      "6  Product G  North    350      90      0.20  Electronics  07-01-2023\n",
      "7  Product H  South    220      40      0.10    Furniture  08-01-2023\n",
      "8  Product I   East    180      45      0.15  Electronics  09-01-2023\n",
      "9  Product J   West    270      65      0.20   Stationery  10-01-2023\n"
     ]
    }
   ],
   "source": [
    "# Step 1: Load and Explore the Dataset\n",
    "# Load the dataset\n",
    "data = pd.read_csv(\"sales_data.csv\")\n",
    "print(data)"
   ]
  },
  {
   "cell_type": "code",
   "execution_count": 6,
   "id": "e437094a",
   "metadata": {},
   "outputs": [
    {
     "name": "stdout",
     "output_type": "stream",
     "text": [
      "Dataset Shape: (10, 7)\n",
      "Dataset Info:\n",
      "<class 'pandas.core.frame.DataFrame'>\n",
      "RangeIndex: 10 entries, 0 to 9\n",
      "Data columns (total 7 columns):\n",
      " #   Column    Non-Null Count  Dtype  \n",
      "---  ------    --------------  -----  \n",
      " 0   Product   10 non-null     object \n",
      " 1   Region    10 non-null     object \n",
      " 2   Sales     10 non-null     int64  \n",
      " 3   Profit    10 non-null     int64  \n",
      " 4   Discount  10 non-null     float64\n",
      " 5   Category  10 non-null     object \n",
      " 6   Date      10 non-null     object \n",
      "dtypes: float64(1), int64(2), object(4)\n",
      "memory usage: 688.0+ bytes\n",
      "Missing Values:\n",
      "Product     0\n",
      "Region      0\n",
      "Sales       0\n",
      "Profit      0\n",
      "Discount    0\n",
      "Category    0\n",
      "Date        0\n",
      "dtype: int64\n"
     ]
    }
   ],
   "source": [
    "# Inspect the dataset\n",
    "print(\"Dataset Shape:\", data.shape)\n",
    "print(\"Dataset Info:\")\n",
    "data.info()\n",
    "print(\"Missing Values:\")\n",
    "print(data.isnull().sum())"
   ]
  },
  {
   "cell_type": "code",
   "execution_count": 8,
   "id": "c4853a9a",
   "metadata": {},
   "outputs": [
    {
     "name": "stdout",
     "output_type": "stream",
     "text": [
      "     Product Region  Sales  Profit  Discount     Category        Date\n",
      "0  Product A   East    200      50      0.10  Electronics  01-01-2023\n",
      "1  Product B   West    300      70      0.15    Furniture  02-01-2023\n",
      "2  Product C  North    250      60      0.05  Electronics  03-01-2023\n",
      "3  Product D  South    400      80      0.20    Furniture  04-01-2023\n",
      "4  Product E   East    100      20      0.10   Stationery  05-01-2023\n",
      "5  Product F   West    150      30      0.05   Stationery  06-01-2023\n",
      "6  Product G  North    350      90      0.20  Electronics  07-01-2023\n",
      "7  Product H  South    220      40      0.10    Furniture  08-01-2023\n",
      "8  Product I   East    180      45      0.15  Electronics  09-01-2023\n",
      "9  Product J   West    270      65      0.20   Stationery  10-01-2023\n"
     ]
    }
   ],
   "source": [
    "# Step 2: Data Cleaning\n",
    "# Remove duplicates\n",
    "data = data.drop_duplicates()\n",
    "print(data)"
   ]
  },
  {
   "cell_type": "code",
   "execution_count": 10,
   "id": "c5a68a64",
   "metadata": {},
   "outputs": [
    {
     "name": "stdout",
     "output_type": "stream",
     "text": [
      "     Product Region  Sales  Profit  Discount     Category        Date\n",
      "0  Product A   East    200      50      0.10  Electronics  01-01-2023\n",
      "1  Product B   West    300      70      0.15    Furniture  02-01-2023\n",
      "2  Product C  North    250      60      0.05  Electronics  03-01-2023\n",
      "3  Product D  South    400      80      0.20    Furniture  04-01-2023\n",
      "4  Product E   East    100      20      0.10   Stationery  05-01-2023\n",
      "5  Product F   West    150      30      0.05   Stationery  06-01-2023\n",
      "6  Product G  North    350      90      0.20  Electronics  07-01-2023\n",
      "7  Product H  South    220      40      0.10    Furniture  08-01-2023\n",
      "8  Product I   East    180      45      0.15  Electronics  09-01-2023\n",
      "9  Product J   West    270      65      0.20   Stationery  10-01-2023\n"
     ]
    }
   ],
   "source": [
    "# Fill missing values\n",
    "data['Sales'] = data['Sales'].fillna(data['Sales'].mean())\n",
    "data['Profit'] = data['Profit'].fillna(data['Profit'].mean())\n",
    "data['Discount'] = data['Discount'].fillna(data['Discount'].mean())\n",
    "print(data)"
   ]
  },
  {
   "cell_type": "code",
   "execution_count": 24,
   "id": "bda6763c",
   "metadata": {},
   "outputs": [
    {
     "name": "stdout",
     "output_type": "stream",
     "text": [
      "     Product Region  Sales  Profit  Discount     Category       Date\n",
      "0  Product A   East    200      50      0.10  Electronics 2023-01-01\n",
      "1  Product B   West    300      70      0.15    Furniture 2023-02-01\n",
      "2  Product C  North    250      60      0.05  Electronics 2023-03-01\n",
      "3  Product D  South    400      80      0.20    Furniture 2023-04-01\n",
      "4  Product E   East    100      20      0.10   Stationery 2023-05-01\n",
      "5  Product F   West    150      30      0.05   Stationery 2023-06-01\n",
      "6  Product G  North    350      90      0.20  Electronics 2023-07-01\n",
      "7  Product H  South    220      40      0.10    Furniture 2023-08-01\n",
      "8  Product I   East    180      45      0.15  Electronics 2023-09-01\n",
      "9  Product J   West    270      65      0.20   Stationery 2023-10-01\n"
     ]
    }
   ],
   "source": [
    "# Convert 'Date' to datetime\n",
    "data['Date'] = pd.to_datetime(data['Date'])\n",
    "print(data)"
   ]
  },
  {
   "cell_type": "code",
   "execution_count": 25,
   "id": "3d991668",
   "metadata": {},
   "outputs": [
    {
     "name": "stdout",
     "output_type": "stream",
     "text": [
      "<class 'pandas.core.frame.DataFrame'>\n",
      "Int64Index: 10 entries, 0 to 9\n",
      "Data columns (total 7 columns):\n",
      " #   Column    Non-Null Count  Dtype         \n",
      "---  ------    --------------  -----         \n",
      " 0   Product   10 non-null     object        \n",
      " 1   Region    10 non-null     object        \n",
      " 2   Sales     10 non-null     int64         \n",
      " 3   Profit    10 non-null     int64         \n",
      " 4   Discount  10 non-null     float64       \n",
      " 5   Category  10 non-null     object        \n",
      " 6   Date      10 non-null     datetime64[ns]\n",
      "dtypes: datetime64[ns](1), float64(1), int64(2), object(3)\n",
      "memory usage: 640.0+ bytes\n"
     ]
    }
   ],
   "source": [
    "data.info()"
   ]
  },
  {
   "cell_type": "code",
   "execution_count": 26,
   "id": "e0b84ccf",
   "metadata": {},
   "outputs": [
    {
     "data": {
      "image/png": "[encoded data removed]",
      "text/plain": [
       "<Figure size 720x432 with 1 Axes>"
      ]
     },
     "metadata": {
      "needs_background": "light"
     },
     "output_type": "display_data"
    }
   ],
   "source": [
    "# Step 3: Exploratory Data Analysis\n",
    "# Plot time series graph for Sales\n",
    "data.set_index('Date')['Sales'].plot(figsize=(10, 6), title='Sales Over Time', ylabel='Sales')\n",
    "plt.show()"
   ]
  },
  {
   "cell_type": "code",
   "execution_count": 27,
   "id": "9cfde095",
   "metadata": {},
   "outputs": [
    {
     "data": {
      "image/png": "[encoded data removed]",
      "text/plain": [
       "<Figure size 432x288 with 1 Axes>"
      ]
     },
     "metadata": {
      "needs_background": "light"
     },
     "output_type": "display_data"
    }
   ],
   "source": [
    "# Scatter plot for Profit vs Discount\n",
    "sns.scatterplot(data=data, x='Discount', y='Profit')\n",
    "plt.title('Profit vs Discount')\n",
    "plt.show()"
   ]
  },
  {
   "cell_type": "code",
   "execution_count": 28,
   "id": "3bb54fdc",
   "metadata": {},
   "outputs": [
    {
     "data": {
      "image/png": "[encoded data removed]",
      "text/plain": [
       "<Figure size 432x288 with 1 Axes>"
      ]
     },
     "metadata": {
      "needs_background": "light"
     },
     "output_type": "display_data"
    }
   ],
   "source": [
    "# Sales distribution by Region and Category\n",
    "region_sales = data.groupby('Region')['Sales'].sum()\n",
    "region_sales.plot(kind='bar', title='Sales by Region', ylabel='Sales', xlabel='Region')\n",
    "plt.show()"
   ]
  },
  {
   "cell_type": "code",
   "execution_count": 29,
   "id": "4160ef67",
   "metadata": {},
   "outputs": [
    {
     "data": {
      "image/png": "[encoded data removed]",
      "text/plain": [
       "<Figure size 432x288 with 1 Axes>"
      ]
     },
     "metadata": {},
     "output_type": "display_data"
    }
   ],
   "source": [
    "category_sales = data.groupby('Category')['Sales'].sum()\n",
    "category_sales.plot(kind='pie', title='Sales by Category', autopct='%1.1f%%')\n",
    "plt.ylabel('')\n",
    "plt.show()\n"
   ]
  },
  {
   "cell_type": "code",
   "execution_count": 30,
   "id": "2927b702",
   "metadata": {},
   "outputs": [],
   "source": [
    "# Step 4: Predictive Modeling\n",
    "# Select features and target\n",
    "features = data[['Profit', 'Discount']]\n",
    "target = data['Sales']\n",
    "\n",
    "# Split the data into training and testing sets\n",
    "X_train, X_test, y_train, y_test = train_test_split(features, target, test_size=0.2, random_state=42)\n"
   ]
  },
  {
   "cell_type": "code",
   "execution_count": 31,
   "id": "6c7abcdd",
   "metadata": {},
   "outputs": [
    {
     "data": {
      "text/plain": [
       "LinearRegression()"
      ]
     },
     "execution_count": 31,
     "metadata": {},
     "output_type": "execute_result"
    }
   ],
   "source": [
    "# Train the Linear Regression Model\n",
    "model = LinearRegression()\n",
    "model.fit(X_train, y_train)"
   ]
  },
  {
   "cell_type": "code",
   "execution_count": 32,
   "id": "a147b7aa",
   "metadata": {},
   "outputs": [],
   "source": [
    "# Make predictions\n",
    "y_pred = model.predict(X_test)"
   ]
  },
  {
   "cell_type": "code",
   "execution_count": 33,
   "id": "c9de4bb0",
   "metadata": {},
   "outputs": [
    {
     "name": "stdout",
     "output_type": "stream",
     "text": [
      "Mean Squared Error: 510.0227357072219\n",
      "R-squared Value: 0.858327017859105\n"
     ]
    }
   ],
   "source": [
    "# Evaluate the model\n",
    "mse = mean_squared_error(y_test, y_pred)\n",
    "r2 = r2_score(y_test, y_pred)\n",
    "\n",
    "print(\"Mean Squared Error:\", mse)\n",
    "print(\"R-squared Value:\", r2)"
   ]
  },
  {
   "cell_type": "code",
   "execution_count": 34,
   "id": "5f49427c",
   "metadata": {},
   "outputs": [
    {
     "name": "stdout",
     "output_type": "stream",
     "text": [
      "Model Coefficients: [  3.62816588 134.03840802]\n",
      "Model Intercept: 28.463679376565494\n"
     ]
    }
   ],
   "source": [
    "# Display coefficients\n",
    "print(\"Model Coefficients:\", model.coef_)\n",
    "print(\"Model Intercept:\", model.intercept_)\n"
   ]
  },
  {
   "cell_type": "code",
   "execution_count": null,
   "id": "0d01a1f6",
   "metadata": {},
   "outputs": [],
   "source": []
  }
 ],
 "metadata": {
  "kernelspec": {
   "display_name": "Python 3",
   "language": "python",
   "name": "python3"
  },
  "language_info": {
   "codemirror_mode": {
    "name": "ipython",
    "version": 3
   },
   "file_extension": ".py",
   "mimetype": "text/x-python",
   "name": "python",
   "nbconvert_exporter": "python",
   "pygments_lexer": "ipython3",
   "version": "3.8.8"
  }
 },
 "nbformat": 4,
 "nbformat_minor": 5
}
