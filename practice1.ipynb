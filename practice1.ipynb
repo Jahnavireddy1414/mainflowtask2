{
 "cells": [
  {
   "cell_type": "code",
   "execution_count": 80,
   "id": "9918ea98-ea39-48a5-a7b3-e0316b27a35f",
   "metadata": {},
   "outputs": [
    {
     "name": "stdout",
     "output_type": "stream",
     "text": [
      "enter 1st name: jahnavi\n",
      "enter last name: reddy\n"
     ]
    },
    {
     "name": "stdout",
     "output_type": "stream",
     "text": [
      "reddy jahnavi\n"
     ]
    }
   ],
   "source": [
    "#Write a Python program that accepts the user's first and last name and prints them in reverse order with a space between them.\n",
    "s1=input(\"enter 1st name:\")\n",
    "s2=input(\"enter last name:\")\n",
    "print(s2,s1)\n"
   ]
  },
  {
   "cell_type": "code",
   "execution_count": 13,
   "id": "be531a4a-ea71-4234-a2d8-a3a3ab6983a5",
   "metadata": {},
   "outputs": [
    {
     "data": {
      "text/html": [
       "<div>\n",
       "<style scoped>\n",
       "    .dataframe tbody tr th:only-of-type {\n",
       "        vertical-align: middle;\n",
       "    }\n",
       "\n",
       "    .dataframe tbody tr th {\n",
       "        vertical-align: top;\n",
       "    }\n",
       "\n",
       "    .dataframe thead th {\n",
       "        text-align: right;\n",
       "    }\n",
       "</style>\n",
       "<table border=\"1\" class=\"dataframe\">\n",
       "  <thead>\n",
       "    <tr style=\"text-align: right;\">\n",
       "      <th></th>\n",
       "      <th>Sales</th>\n",
       "      <th>Profit</th>\n",
       "      <th>Region</th>\n",
       "      <th>Product_Category</th>\n",
       "    </tr>\n",
       "  </thead>\n",
       "  <tbody>\n",
       "    <tr>\n",
       "      <th>0</th>\n",
       "      <td>250.0</td>\n",
       "      <td>50.0</td>\n",
       "      <td>East</td>\n",
       "      <td>Furniture</td>\n",
       "    </tr>\n",
       "    <tr>\n",
       "      <th>1</th>\n",
       "      <td>340.0</td>\n",
       "      <td>70.0</td>\n",
       "      <td>West</td>\n",
       "      <td>Technology</td>\n",
       "    </tr>\n",
       "    <tr>\n",
       "      <th>2</th>\n",
       "      <td>NaN</td>\n",
       "      <td>30.0</td>\n",
       "      <td>South</td>\n",
       "      <td>Office Supplies</td>\n",
       "    </tr>\n",
       "    <tr>\n",
       "      <th>3</th>\n",
       "      <td>120.0</td>\n",
       "      <td>NaN</td>\n",
       "      <td>East</td>\n",
       "      <td>Furniture</td>\n",
       "    </tr>\n",
       "    <tr>\n",
       "      <th>4</th>\n",
       "      <td>450.0</td>\n",
       "      <td>90.0</td>\n",
       "      <td>North</td>\n",
       "      <td>NaN</td>\n",
       "    </tr>\n",
       "  </tbody>\n",
       "</table>\n",
       "</div>"
      ],
      "text/plain": [
       "   Sales  Profit Region Product_Category\n",
       "0  250.0    50.0   East        Furniture\n",
       "1  340.0    70.0   West       Technology\n",
       "2    NaN    30.0  South  Office Supplies\n",
       "3  120.0     NaN   East        Furniture\n",
       "4  450.0    90.0  North              NaN"
      ]
     },
     "execution_count": 13,
     "metadata": {},
     "output_type": "execute_result"
    }
   ],
   "source": [
    "import pandas as pd\n",
    "import numpy as np\n",
    "data = {\n",
    "    \"Sales\": [250, 340, np.nan, 120, 450, 380, np.nan, 290, 310, 500, 400, 220, np.nan, 370, 330, 280, 390, 410, 520, np.nan],\n",
    "    \"Profit\": [50, 70, 30, np.nan, 90, 60, 40, 45, np.nan, 100, 80, 35, 25, 75, 65, np.nan, 85, 95, 110, 20],\n",
    "    \"Region\": [\"East\", \"West\", \"South\", \"East\", \"North\", \"West\", \"South\", np.nan, \"East\", \"North\",\n",
    "               \"West\", \"South\", \"East\", np.nan, \"North\", \"West\", \"South\", \"East\", \"North\", \"South\"],\n",
    "    \"Product_Category\": [\"Furniture\", \"Technology\", \"Office Supplies\", \"Furniture\", np.nan, \n",
    "                          \"Office Supplies\", \"Technology\", \"Furniture\", \"Office Supplies\", \n",
    "                          \"Technology\", \"Furniture\", np.nan, \"Office Supplies\", \"Technology\", \n",
    "                          \"Furniture\", \"Office Supplies\", \"Technology\", \"Furniture\", \"Office Supplies\", \"Technology\"]\n",
    "}\n",
    "\n",
    "df_global_superstore = pd.DataFrame(data)\n",
    "df_global_superstore.head()"
   ]
  },
  {
   "cell_type": "code",
   "execution_count": 25,
   "id": "2ac4aa37-8511-4257-aa4b-15703bc446a0",
   "metadata": {},
   "outputs": [
    {
     "data": {
      "text/plain": [
       "Sales               4\n",
       "Profit              3\n",
       "Region              2\n",
       "Product_Category    2\n",
       "dtype: int64"
      ]
     },
     "execution_count": 25,
     "metadata": {},
     "output_type": "execute_result"
    }
   ],
   "source": [
    "#CLEAN DATA\n",
    "#Handle missing values by filling them with appropriate measures (mean,median, or placeholders) or by removing affected rows/columns\n",
    "df_global_superstore.isnull().sum()\n"
   ]
  },
  {
   "cell_type": "code",
   "execution_count": 19,
   "id": "8960ea8b-c429-4ac4-9ebb-56cd864eedd4",
   "metadata": {},
   "outputs": [
    {
     "data": {
      "text/html": [
       "<div>\n",
       "<style scoped>\n",
       "    .dataframe tbody tr th:only-of-type {\n",
       "        vertical-align: middle;\n",
       "    }\n",
       "\n",
       "    .dataframe tbody tr th {\n",
       "        vertical-align: top;\n",
       "    }\n",
       "\n",
       "    .dataframe thead th {\n",
       "        text-align: right;\n",
       "    }\n",
       "</style>\n",
       "<table border=\"1\" class=\"dataframe\">\n",
       "  <thead>\n",
       "    <tr style=\"text-align: right;\">\n",
       "      <th></th>\n",
       "      <th>Sales</th>\n",
       "      <th>Profit</th>\n",
       "      <th>Region</th>\n",
       "      <th>Product_Category</th>\n",
       "    </tr>\n",
       "  </thead>\n",
       "  <tbody>\n",
       "    <tr>\n",
       "      <th>0</th>\n",
       "      <td>250.0</td>\n",
       "      <td>50.0</td>\n",
       "      <td>East</td>\n",
       "      <td>Furniture</td>\n",
       "    </tr>\n",
       "    <tr>\n",
       "      <th>1</th>\n",
       "      <td>340.0</td>\n",
       "      <td>70.0</td>\n",
       "      <td>West</td>\n",
       "      <td>Technology</td>\n",
       "    </tr>\n",
       "    <tr>\n",
       "      <th>2</th>\n",
       "      <td>NaN</td>\n",
       "      <td>30.0</td>\n",
       "      <td>South</td>\n",
       "      <td>Office Supplies</td>\n",
       "    </tr>\n",
       "    <tr>\n",
       "      <th>3</th>\n",
       "      <td>120.0</td>\n",
       "      <td>NaN</td>\n",
       "      <td>East</td>\n",
       "      <td>Furniture</td>\n",
       "    </tr>\n",
       "    <tr>\n",
       "      <th>4</th>\n",
       "      <td>450.0</td>\n",
       "      <td>90.0</td>\n",
       "      <td>North</td>\n",
       "      <td>NaN</td>\n",
       "    </tr>\n",
       "  </tbody>\n",
       "</table>\n",
       "</div>"
      ],
      "text/plain": [
       "   Sales  Profit Region Product_Category\n",
       "0  250.0    50.0   East        Furniture\n",
       "1  340.0    70.0   West       Technology\n",
       "2    NaN    30.0  South  Office Supplies\n",
       "3  120.0     NaN   East        Furniture\n",
       "4  450.0    90.0  North              NaN"
      ]
     },
     "execution_count": 19,
     "metadata": {},
     "output_type": "execute_result"
    }
   ],
   "source": [
    "df_global_superstore.drop_duplicates(inplace=True)\n",
    "df_global_superstore.head()"
   ]
  },
  {
   "cell_type": "code",
   "execution_count": 37,
   "id": "749e7087-3d37-474e-a071-fb06b463ddad",
   "metadata": {},
   "outputs": [
    {
     "data": {
      "text/html": [
       "<div>\n",
       "<style scoped>\n",
       "    .dataframe tbody tr th:only-of-type {\n",
       "        vertical-align: middle;\n",
       "    }\n",
       "\n",
       "    .dataframe tbody tr th {\n",
       "        vertical-align: top;\n",
       "    }\n",
       "\n",
       "    .dataframe thead th {\n",
       "        text-align: right;\n",
       "    }\n",
       "</style>\n",
       "<table border=\"1\" class=\"dataframe\">\n",
       "  <thead>\n",
       "    <tr style=\"text-align: right;\">\n",
       "      <th></th>\n",
       "      <th>Sales</th>\n",
       "      <th>Profit</th>\n",
       "      <th>Region</th>\n",
       "      <th>Product_Category</th>\n",
       "    </tr>\n",
       "  </thead>\n",
       "  <tbody>\n",
       "    <tr>\n",
       "      <th>0</th>\n",
       "      <td>250.0</td>\n",
       "      <td>50.000000</td>\n",
       "      <td>East</td>\n",
       "      <td>Furniture</td>\n",
       "    </tr>\n",
       "    <tr>\n",
       "      <th>1</th>\n",
       "      <td>340.0</td>\n",
       "      <td>70.000000</td>\n",
       "      <td>West</td>\n",
       "      <td>Technology</td>\n",
       "    </tr>\n",
       "    <tr>\n",
       "      <th>2</th>\n",
       "      <td>347.5</td>\n",
       "      <td>30.000000</td>\n",
       "      <td>South</td>\n",
       "      <td>Office Supplies</td>\n",
       "    </tr>\n",
       "    <tr>\n",
       "      <th>4</th>\n",
       "      <td>450.0</td>\n",
       "      <td>90.000000</td>\n",
       "      <td>North</td>\n",
       "      <td>Miscellaneous</td>\n",
       "    </tr>\n",
       "    <tr>\n",
       "      <th>5</th>\n",
       "      <td>380.0</td>\n",
       "      <td>60.000000</td>\n",
       "      <td>West</td>\n",
       "      <td>Office Supplies</td>\n",
       "    </tr>\n",
       "    <tr>\n",
       "      <th>6</th>\n",
       "      <td>347.5</td>\n",
       "      <td>40.000000</td>\n",
       "      <td>South</td>\n",
       "      <td>Technology</td>\n",
       "    </tr>\n",
       "    <tr>\n",
       "      <th>7</th>\n",
       "      <td>290.0</td>\n",
       "      <td>45.000000</td>\n",
       "      <td>Unknown</td>\n",
       "      <td>Furniture</td>\n",
       "    </tr>\n",
       "    <tr>\n",
       "      <th>8</th>\n",
       "      <td>310.0</td>\n",
       "      <td>63.235294</td>\n",
       "      <td>East</td>\n",
       "      <td>Office Supplies</td>\n",
       "    </tr>\n",
       "    <tr>\n",
       "      <th>10</th>\n",
       "      <td>400.0</td>\n",
       "      <td>80.000000</td>\n",
       "      <td>West</td>\n",
       "      <td>Furniture</td>\n",
       "    </tr>\n",
       "    <tr>\n",
       "      <th>11</th>\n",
       "      <td>220.0</td>\n",
       "      <td>35.000000</td>\n",
       "      <td>South</td>\n",
       "      <td>Miscellaneous</td>\n",
       "    </tr>\n",
       "    <tr>\n",
       "      <th>12</th>\n",
       "      <td>347.5</td>\n",
       "      <td>25.000000</td>\n",
       "      <td>East</td>\n",
       "      <td>Office Supplies</td>\n",
       "    </tr>\n",
       "    <tr>\n",
       "      <th>13</th>\n",
       "      <td>370.0</td>\n",
       "      <td>75.000000</td>\n",
       "      <td>Unknown</td>\n",
       "      <td>Technology</td>\n",
       "    </tr>\n",
       "    <tr>\n",
       "      <th>14</th>\n",
       "      <td>330.0</td>\n",
       "      <td>65.000000</td>\n",
       "      <td>North</td>\n",
       "      <td>Furniture</td>\n",
       "    </tr>\n",
       "    <tr>\n",
       "      <th>15</th>\n",
       "      <td>280.0</td>\n",
       "      <td>63.235294</td>\n",
       "      <td>West</td>\n",
       "      <td>Office Supplies</td>\n",
       "    </tr>\n",
       "    <tr>\n",
       "      <th>16</th>\n",
       "      <td>390.0</td>\n",
       "      <td>85.000000</td>\n",
       "      <td>South</td>\n",
       "      <td>Technology</td>\n",
       "    </tr>\n",
       "    <tr>\n",
       "      <th>17</th>\n",
       "      <td>410.0</td>\n",
       "      <td>95.000000</td>\n",
       "      <td>East</td>\n",
       "      <td>Furniture</td>\n",
       "    </tr>\n",
       "    <tr>\n",
       "      <th>19</th>\n",
       "      <td>347.5</td>\n",
       "      <td>20.000000</td>\n",
       "      <td>South</td>\n",
       "      <td>Technology</td>\n",
       "    </tr>\n",
       "  </tbody>\n",
       "</table>\n",
       "</div>"
      ],
      "text/plain": [
       "    Sales     Profit   Region Product_Category\n",
       "0   250.0  50.000000     East        Furniture\n",
       "1   340.0  70.000000     West       Technology\n",
       "2   347.5  30.000000    South  Office Supplies\n",
       "4   450.0  90.000000    North    Miscellaneous\n",
       "5   380.0  60.000000     West  Office Supplies\n",
       "6   347.5  40.000000    South       Technology\n",
       "7   290.0  45.000000  Unknown        Furniture\n",
       "8   310.0  63.235294     East  Office Supplies\n",
       "10  400.0  80.000000     West        Furniture\n",
       "11  220.0  35.000000    South    Miscellaneous\n",
       "12  347.5  25.000000     East  Office Supplies\n",
       "13  370.0  75.000000  Unknown       Technology\n",
       "14  330.0  65.000000    North        Furniture\n",
       "15  280.0  63.235294     West  Office Supplies\n",
       "16  390.0  85.000000    South       Technology\n",
       "17  410.0  95.000000     East        Furniture\n",
       "19  347.5  20.000000    South       Technology"
      ]
     },
     "execution_count": 37,
     "metadata": {},
     "output_type": "execute_result"
    }
   ],
   "source": [
    "# Detecting and handling outliers using IQR for 'Sales' and 'Profit'\n",
    "Q1_sales = df_global_superstore['Sales'].quantile(0.25)\n",
    "Q3_sales = df_global_superstore['Sales'].quantile(0.75)\n",
    "IQR_sales = Q3_sales - Q1_sales\n",
    "Q1_profit = df_global_superstore['Profit'].quantile(0.25)\n",
    "Q3_profit = df_global_superstore['Profit'].quantile(0.75)\n",
    "IQR_profit = Q3_profit - Q1_profit\n",
    "# Define outlier bounds\n",
    "lower_bound_sales = Q1_sales - 1.5 * IQR_sales\n",
    "upper_bound_sales = Q3_sales + 1.5 * IQR_sales\n",
    "lower_bound_profit = Q1_profit - 1.5 * IQR_profit\n",
    "upper_bound_profit = Q3_profit + 1.5 * IQR_profit\n",
    "# Removing outliers\n",
    "df_global_superstore = df_global_superstore[\n",
    "    (df_global_superstore['Sales'] >= lower_bound_sales) & (df_global_superstore['Sales'] <= upper_bound_sales) &\n",
    "    (df_global_superstore['Profit'] >= lower_bound_profit) & (df_global_superstore['Profit'] <= upper_bound_profit)]\n",
    "# Displaying the cleaned data frame\n",
    "df_global_superstore"
   ]
  },
  {
   "cell_type": "code",
   "execution_count": 47,
   "id": "99e94385-2fb8-418b-be3d-b90127187a2f",
   "metadata": {},
   "outputs": [
    {
     "data": {
      "text/plain": [
       "({'Mean': Sales     341.764706\n",
       "  Profit     58.321799\n",
       "  dtype: float64,\n",
       "  'Median': Sales     347.500000\n",
       "  Profit     63.235294\n",
       "  dtype: float64,\n",
       "  'Standard Deviation': Sales     58.828171\n",
       "  Profit    23.113925\n",
       "  dtype: float64,\n",
       "  'Variance': Sales     3460.753676\n",
       "  Profit     534.253511\n",
       "  dtype: float64},\n",
       "            Sales    Profit\n",
       " Sales   1.000000  0.554866\n",
       " Profit  0.554866  1.000000)"
      ]
     },
     "execution_count": 47,
     "metadata": {},
     "output_type": "execute_result"
    }
   ],
   "source": [
    "measures = {\n",
    "    \"Mean\": df_global_superstore.mean(numeric_only=True),\n",
    "    \"Median\": df_global_superstore.median(numeric_only=True),\n",
    "    \"Standard Deviation\": df_global_superstore.std(numeric_only=True),\n",
    "    \"Variance\": df_global_superstore.var(numeric_only=True)\n",
    "}\n",
    "correlations = df_global_superstore.corr(numeric_only=True)\n",
    "measures, correlations"
   ]
  },
  {
   "cell_type": "code",
   "execution_count": 45,
   "id": "b28d71b7-24b2-46b4-801c-35afe4f6332f",
   "metadata": {},
   "outputs": [
    {
     "data": {
      "text/plain": [
       "({'Mean': Sales     341.764706\n",
       "  Profit     58.321799\n",
       "  dtype: float64},\n",
       "            Sales    Profit\n",
       " Sales   1.000000  0.554866\n",
       " Profit  0.554866  1.000000)"
      ]
     },
     "execution_count": 45,
     "metadata": {},
     "output_type": "execute_result"
    }
   ],
   "source": [
    "measures = {\n",
    "    \"Mean\": df_global_superstore.mean(numeric_only=True),\n",
    "}\n",
    "correlations = df_global_superstore.corr(numeric_only=True)\n",
    "measures, correlations"
   ]
  },
  {
   "cell_type": "code",
   "execution_count": 61,
   "id": "7c37fd1c-e4d8-4ea0-935c-594c11257472",
   "metadata": {},
   "outputs": [
    {
     "data": {
      "image/png": "[encoded data removed]",
      "text/plain": [
       "<Figure size 1200x600 with 1 Axes>"
      ]
     },
     "metadata": {},
     "output_type": "display_data"
    }
   ],
   "source": [
    "plt.hist(data,color='skyblue',density=True,cumulative=True,edgecolor='black')#bins=30\n",
    "plt.title('histogram')\n",
    "plt.show()"
   ]
  },
  {
   "cell_type": "code",
   "execution_count": 63,
   "id": "11399ab0-54b0-47a1-83ed-bf19059e13f9",
   "metadata": {},
   "outputs": [
    {
     "data": {
      "image/png": "[encoded data removed]",
      "text/plain": [
       "<Figure size 1200x600 with 1 Axes>"
      ]
     },
     "metadata": {},
     "output_type": "display_data"
    }
   ],
   "source": [
    "plt.figure(figsize=(12, 6))\n",
    "sns.boxplot(data=df_global_superstore[['Sales', 'Profit']], palette=\"Set3\")\n",
    "plt.title(\"Boxplots of Sales and Profit\")\n",
    "plt.show()"
   ]
  },
  {
   "cell_type": "code",
   "execution_count": 65,
   "id": "9b87512d-a53e-49ec-8ed8-41f56962eeec",
   "metadata": {},
   "outputs": [
    {
     "data": {
      "image/png": "[encoded data removed]",
      "text/plain": [
       "<Figure size 800x600 with 2 Axes>"
      ]
     },
     "metadata": {},
     "output_type": "display_data"
    }
   ],
   "source": [
    "plt.figure(figsize=(8, 6))\n",
    "sns.heatmap(df_global_superstore.corr(numeric_only=True), annot=True, cmap=\"coolwarm\", fmt=\".2f\")\n",
    "plt.title(\"Heatmap of Correlations\")\n",
    "plt.show()"
   ]
  },
  {
   "cell_type": "code",
   "execution_count": null,
   "id": "5a547f7a-a125-487a-8fa5-9832ac35ff51",
   "metadata": {},
   "outputs": [],
   "source": []
  }
 ],
 "metadata": {
  "kernelspec": {
   "display_name": "Python 3 (ipykernel)",
   "language": "python",
   "name": "python3"
  },
  "language_info": {
   "codemirror_mode": {
    "name": "ipython",
    "version": 3
   },
   "file_extension": ".py",
   "mimetype": "text/x-python",
   "name": "python",
   "nbconvert_exporter": "python",
   "pygments_lexer": "ipython3",
   "version": "3.12.4"
  }
 },
 "nbformat": 4,
 "nbformat_minor": 5
}
